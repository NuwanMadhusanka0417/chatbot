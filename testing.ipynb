{
 "cells": [
  {
   "cell_type": "code",
   "execution_count": 1,
   "metadata": {},
   "outputs": [],
   "source": [
    "from sklearn.feature_extraction.text import CountVectorizer\n",
    "import pickle\n",
    "import numpy as np\n",
    "import random\n",
    "\n",
    "feature_path = 'models/vectorizer.pkl'\n",
    "vectorizer = CountVectorizer(decode_error=\"replace\", vocabulary=pickle.load(open(feature_path, \"rb\")))\n"
   ]
  },
  {
   "cell_type": "code",
   "execution_count": 2,
   "metadata": {},
   "outputs": [
    {
     "name": "stderr",
     "output_type": "stream",
     "text": [
      "Using TensorFlow backend.\n"
     ]
    }
   ],
   "source": [
    "filename = 'models/model.sav'\n",
    "model = pickle.load(open(filename, 'rb'))"
   ]
  },
  {
   "cell_type": "code",
   "execution_count": 3,
   "metadata": {},
   "outputs": [
    {
     "name": "stdout",
     "output_type": "stream",
     "text": [
      "prediction  [3.1778782e-05 7.2777322e-05 1.4123578e-05 8.4924963e-05 9.9979645e-01]\n",
      "  0.99979645\n",
      "max index  4\n"
     ]
    }
   ],
   "source": [
    "# methods = [\"greet\",\"bye\",\"count\",\"type\",\"area\"]\n",
    "\n",
    "\n",
    "x = [\"what is the village\"]\n",
    "\n",
    "y = vectorizer.transform(x)\n",
    "predicted = model.predict(y)[0]\n",
    "print(\"prediction \",predicted)\n",
    "print(\" \",max(predicted))\n",
    "print(\"max index \",np.argmax(predicted))\n"
   ]
  },
  {
   "cell_type": "code",
   "execution_count": 20,
   "metadata": {},
   "outputs": [],
   "source": [
    "greet = [\"Hi, Good morning\",\"Hi Good morning, How can i help you..\"]\n",
    "bye = [\"bye, see you later\",\"bye, have a nice day\"]\n",
    "count = [\"1000 students are studing the in school\",\"there are 1000 students in the school\"]\n",
    "type_ = [\"This is a national school\",\"it is a national school\"]\n",
    "area = [\"school is located in Walasmulla are\",\"this is located in walasmulla area\"]\n",
    "reply_message = [greet,bye,count,type_,area]"
   ]
  },
  {
   "cell_type": "code",
   "execution_count": null,
   "metadata": {},
   "outputs": [],
   "source": []
  },
  {
   "cell_type": "code",
   "execution_count": 21,
   "metadata": {},
   "outputs": [],
   "source": [
    "def reply(text):\n",
    "    vec = vectorizer.transform([text])\n",
    "    predicted = model.predict(vec)[0]\n",
    "    index = np.argmax(predicted)\n",
    "    return random.choice(reply_message[index])\n",
    "# print(reply(\"bye\"))"
   ]
  },
  {
   "cell_type": "code",
   "execution_count": 22,
   "metadata": {},
   "outputs": [
    {
     "name": "stdout",
     "output_type": "stream",
     "text": [
      "Hi, good morning\n",
      "Hi, Good morning\n",
      "what is the category of school\n",
      "This is a national school\n",
      "where is it located\n",
      "school is located in Walasmulla are\n",
      "how many students are there\n",
      "1000 students are studing the in school\n",
      "okay, thank you\n",
      "bye, have a nice day\n"
     ]
    }
   ],
   "source": [
    "import tkinter as tk\n",
    "gui = tk.Tk()\n",
    "gui.title(\"School - Chatbot\")\n",
    "gui.geometry(\"400x500\")\n",
    "gui.resizable(width=False, height=False)\n",
    "\n",
    "\n",
    "\n",
    "def read_text():\n",
    "    text = text_box.get(\"1.0\",'end-1c').strip()\n",
    "    text_box.delete(\"0.0\",'end-1c')\n",
    "    \n",
    "    if text != '':\n",
    "        ChatLog.tag_config('you', foreground=\"#aa2265\",font=(\"Verdana\", 12 ))\n",
    "        ChatLog.tag_config('chatbot', foreground=\"#442265\",font=(\"Verdana\", 12 ))\n",
    "        \n",
    "        ChatLog.insert('end-1c', \"You: \" + text + '\\n\\n','you')\n",
    "        \n",
    "        reply_message = reply(str(text))\n",
    "\n",
    "        ChatLog.insert('end-1c', \"Chatbot: \" + reply_message + '\\n\\n','chatbot')\n",
    "\n",
    "        print(text)\n",
    "        print(reply_message)\n",
    "        \n",
    "lbl1 = tk.Label(gui,text = \"Ask your quession here\").place(x = 6, y = 6) \n",
    "        \n",
    "ChatLog = tk.Text(gui, bd=0, bg=\"white\", height=\"8\", width=\"50\", font=\"Arial\",)\n",
    "ChatLog.place(x=6,y=100, height=390, width=388)\n",
    "\n",
    "text_box = tk.Text(gui,height=3,width=35)\n",
    "text_box.place(x=10,y=26)\n",
    "\n",
    "send_button = tk.Button(gui, text =\"Send\", command = read_text,height=2,width=8)\n",
    "send_button.place(x=300,y=26)\n",
    "\n",
    "gui.mainloop()"
   ]
  },
  {
   "cell_type": "code",
   "execution_count": null,
   "metadata": {},
   "outputs": [],
   "source": []
  }
 ],
 "metadata": {
  "kernelspec": {
   "display_name": "Python 3",
   "language": "python",
   "name": "python3"
  },
  "language_info": {
   "codemirror_mode": {
    "name": "ipython",
    "version": 3
   },
   "file_extension": ".py",
   "mimetype": "text/x-python",
   "name": "python",
   "nbconvert_exporter": "python",
   "pygments_lexer": "ipython3",
   "version": "3.6.9"
  }
 },
 "nbformat": 4,
 "nbformat_minor": 4
}
